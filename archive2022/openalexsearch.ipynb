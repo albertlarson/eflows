{
 "cells": [
  {
   "cell_type": "code",
   "execution_count": 2,
   "id": "4f2e39af-7b89-4ce2-974d-96686cb392bc",
   "metadata": {},
   "outputs": [],
   "source": [
    "import requests\n",
    "import numpy as np"
   ]
  },
  {
   "cell_type": "code",
   "execution_count": 3,
   "id": "ce91e05e-951d-4f21-9105-104b822deb90",
   "metadata": {},
   "outputs": [
    {
     "data": {
      "text/plain": [
       "245314678"
      ]
     },
     "execution_count": 3,
     "metadata": {},
     "output_type": "execute_result"
    }
   ],
   "source": [
    "total = requests.get('https://api.openalex.org/works').json()\n",
    "total['meta']['count']"
   ]
  },
  {
   "cell_type": "code",
   "execution_count": 5,
   "id": "ebbca144-c37d-4b25-ac9e-f498d7012587",
   "metadata": {},
   "outputs": [
    {
     "data": {
      "text/plain": [
       "2363376"
      ]
     },
     "execution_count": 5,
     "metadata": {},
     "output_type": "execute_result"
    }
   ],
   "source": [
    "bulk = requests.get('https://api.openalex.org/works?search=environmental%20flows').json()\n",
    "bulkeflow_records = bulk['meta']['count']\n",
    "bulkeflow_records"
   ]
  },
  {
   "cell_type": "code",
   "execution_count": 2,
   "id": "b49f1061-f8b8-4c8e-b618-8f5aeadb698e",
   "metadata": {},
   "outputs": [
    {
     "name": "stdout",
     "output_type": "stream",
     "text": [
      "The SWOT Mission and Its Capabilities for Land Hydrology\n",
      "Sylvain Biancamaria\n",
      "https://doi.org/10.1007/s10712-015-9346-y\n",
      "1664.6119\n",
      "\n",
      "\n",
      "Global Observations of Fine-Scale Ocean Surface Topography With the Surface Water and Ocean Topography (SWOT) Mission\n",
      "Rosemary Morrow\n",
      "https://doi.org/10.3389/fmars.2019.00232\n",
      "879.831\n",
      "\n",
      "\n",
      "Discharge Estimation in Ungauged Basins Through Variational Data Assimilation: The Potential of the SWOT Mission\n",
      "Hind Oubanas\n",
      "https://doi.org/10.1002/2017wr021735\n",
      "528.5287\n",
      "\n",
      "\n",
      "The SWOT Mission and Its Capabilities for Land Hydrology\n",
      "Sylvain Biancamaria\n",
      "https://doi.org/10.1007/978-3-319-32449-4_6\n",
      "496.72165\n",
      "\n",
      "\n",
      "Improving Temporal Coverage of the SWOT Mission Using Spatiotemporal Kriging\n",
      "Yeosang Yoon\n",
      "https://doi.org/10.1109/jstars.2013.2257697\n",
      "442.664\n",
      "\n",
      "\n",
      "Assimilation of satellite data to optimize large-scale hydrological model parameters: a case study for the SWOT mission\n",
      "Vanessa Pedinotti\n",
      "https://doi.org/10.5194/hess-18-4485-2014\n",
      "422.73572\n",
      "\n",
      "\n",
      "The Surface Water and Ocean Topography (SWOT) Mission\n",
      "Lee-Lueng Fu\n",
      "https://doi.org/10.5270/oceanobs09.cwp.33\n",
      "370.76178\n",
      "\n",
      "\n",
      "Characterizing water surface elevation under different flow conditions for the upcoming SWOT mission\n",
      "Alessio Domeneghetti\n",
      "https://doi.org/10.1016/j.jhydrol.2018.04.046\n",
      "345.76498\n",
      "\n",
      "\n",
      "Swot Mission Performance and Error Budget\n",
      "Eva Peral\n",
      "https://doi.org/10.1109/igarss.2018.8517385\n",
      "293.69656\n",
      "\n",
      "\n",
      "Investigating the Performance of Four Empirical Cross-Calibration Methods for the Proposed SWOT Mission\n",
      "Gérald Dibarboure\n",
      "https://doi.org/10.3390/rs6064831\n",
      "289.99704\n",
      "\n",
      "\n",
      "Fine-scale Altimetry and the Future SWOT Mission\n",
      "Rosemary Morrow\n",
      "https://doi.org/10.17125/gov2018.ch08\n",
      "289.05063\n",
      "\n",
      "\n",
      "An Observing System Simulation Experiment for Ocean State Estimation to Assess the Performance of the SWOT Mission: Part 1—A Twin Experiment\n",
      "Zhijin Li\n",
      "https://doi.org/10.1029/2018jc014869\n",
      "287.5164\n",
      "\n",
      "\n",
      "Ka-band SAR interferometry studies for the SWOT mission\n",
      "Daniel Esteban-Fernandez\n",
      "https://doi.org/10.1109/igarss.2010.5652302\n",
      "271.19824\n",
      "\n",
      "\n",
      "Surface Water and Ocean Topography (SWOT) mission\n",
      "Steven P. Neeck\n",
      "https://doi.org/10.1117/12.981151\n",
      "271.02527\n",
      "\n",
      "\n",
      "Flow Duration Curve from Satellite: Potential of a Lifetime SWOT Mission\n",
      "Alessio Domeneghetti\n",
      "https://doi.org/10.3390/rs10071107\n",
      "266.90707\n",
      "\n",
      "\n",
      "Engaging the Applications Community of the future Surface Water and Ocean Topography (SWOT) Mission\n",
      "Margaret Srinivasan\n",
      "https://doi.org/10.5194/isprsarchives-xl-7-w3-1497-2015\n",
      "234.48802\n",
      "\n",
      "\n",
      "X-Band Choke Ring Horn Telecom Antenna for Interference Mitigation on NASA’s SWOT Mission\n",
      "Nacer Chahat\n",
      "https://doi.org/10.1109/tap.2016.2546298\n",
      "232.89671\n",
      "\n",
      "\n",
      "The Surface Water and Ocean Topography (SWOT) Mission River Database (SWORD): A Global River Network for Satellite Data Products\n",
      "E. H. Altenau\n",
      "https://doi.org/10.1029/2021wr030054\n",
      "225.78853\n",
      "\n",
      "\n",
      "How Does the Unique Space‐Time Sampling of the SWOT Mission Influence River Discharge Series Characteristics?\n",
      "Cassandra Nickles\n",
      "https://doi.org/10.1029/2019gl083886\n",
      "219.92351\n",
      "\n",
      "\n",
      "Canada’s Contributions to the SWOT Mission – Terrestrial Hydrology(SWOT-C TH)\n",
      "Alain Pietroniro\n",
      "https://doi.org/10.1080/07038992.2019.1581056\n",
      "218.17049\n",
      "\n",
      "\n"
     ]
    },
    {
     "data": {
      "text/plain": [
       "''"
      ]
     },
     "execution_count": 2,
     "metadata": {},
     "output_type": "execute_result"
    }
   ],
   "source": [
    "import requests\n",
    "import numpy as np\n",
    "\n",
    "def searching(query_string,broad='no',does_date_matter = 'yes',from_date='2000-01-01',to_date='2022-12-12'):\n",
    "\n",
    "    if broad == 'no':\n",
    "        if does_date_matter == 'yes':\n",
    "            institution = requests.get(\n",
    "                f'https://api.openalex.org/works?filter=abstract.search:{query_string},from_publication_date:{from_date},to_publication_date:{to_date}&page=1&per-page=20'\n",
    "            ).json()\n",
    "        else:\n",
    "            institution = requests.get(\n",
    "                f'https://api.openalex.org/works?filter=abstract.search:{query_string}&page=1&per-page=20'\n",
    "            ).json()\n",
    "\n",
    "    elif broad == 'yes':\n",
    "        institution = requests.get(\n",
    "            f'https://api.openalex.org/works?search={query_string}&page=1&per-page=20'\n",
    "        ).json()\n",
    "    \n",
    "    for x in range(20):\n",
    "        print(institution['results'][x]['title'])\n",
    "        print(institution['results'][x]['authorships'][0]['author']['display_name'])\n",
    "        print(institution['results'][x]['doi'])\n",
    "        print(institution['results'][x]['relevance_score'])\n",
    "        print('\\n')\n",
    "        \n",
    "\n",
    "    return _\n",
    "\n",
    "searching('swot mission',broad='yes')"
   ]
  },
  {
   "cell_type": "code",
   "execution_count": 42,
   "id": "8f33f301-e8bd-428f-80bd-f79870712edf",
   "metadata": {},
   "outputs": [
    {
     "name": "stdout",
     "output_type": "stream",
     "text": [
      "what're you lookin' for today? \t environmental flow\n",
      "number of results \t101166\n",
      "\n",
      "\n",
      "Four billion people facing severe water scarcity\n",
      "Mesfin Mekonnen\n",
      "https://doi.org/10.1126/sciadv.1500323\n",
      "1631.7297\n",
      "\n",
      "\n",
      "The ecological limits of hydrologic alteration (ELOHA): a new framework for developing regional environmental flow standards\n",
      "N. LeRoy Poff\n",
      "https://doi.org/10.1111/j.1365-2427.2009.02204.x\n",
      "1344.0663\n",
      "\n",
      "\n",
      "A global perspective on environmental flow assessment: emerging trends in the development and application of environmental flow methodologies for rivers\n",
      "Rebecca E. Tharme\n",
      "https://doi.org/10.1002/rra.736\n",
      "1192.6832\n",
      "\n",
      "\n",
      "THE CHALLENGE OF PROVIDING ENVIRONMENTAL FLOW RULES TO SUSTAIN RIVER ECOSYSTEMS\n",
      "Angela Arthington\n",
      "https://doi.org/10.1890/1051-0761(2006)016[1311:tcopef]2.0.co;2\n",
      "1137.479\n",
      "\n",
      "\n",
      "Incorporating thermal regimes into environmental flows assessments: modifying dam operations to restore freshwater ecosystem integrity\n",
      "Julian D. Olden\n",
      "https://doi.org/10.1111/j.1365-2427.2009.02179.x\n",
      "946.2768\n",
      "\n",
      "\n"
     ]
    }
   ],
   "source": [
    "query_string = 'co2'\n",
    "query_string = input(\"what're you lookin' for today? \\t\")\n",
    "does_date_matter = 'no'\n",
    "from_date = '2000-01-01'\n",
    "to_date = '2022-12-12'\n",
    "if does_date_matter == 'yes':\n",
    "    institution = requests.get(\n",
    "        f'https://api.openalex.org/works?filter=abstract.search:{query_string},from_publication_date:{from_date},to_publication_date:{to_date}&page=1&per-page=20'\n",
    "    ).json()\n",
    "else:\n",
    "    institution = requests.get(\n",
    "        f'https://api.openalex.org/works?filter=abstract.search:{query_string}&page=1&per-page=20'\n",
    "    ).json()\n",
    "\n",
    "print(f\"number of results \\t{institution['meta']['count']}\\n\\n\")\n",
    "\n",
    "for x in range(5):\n",
    "    print(institution['results'][x]['title'])\n",
    "    print(institution['results'][x]['authorships'][0]['author']['display_name'])\n",
    "    print(institution['results'][x]['doi'])\n",
    "    print(institution['results'][x]['relevance_score'])\n",
    "    print('\\n')"
   ]
  }
 ],
 "metadata": {
  "kernelspec": {
   "display_name": "Python 3 (ipykernel)",
   "language": "python",
   "name": "python3"
  },
  "language_info": {
   "codemirror_mode": {
    "name": "ipython",
    "version": 3
   },
   "file_extension": ".py",
   "mimetype": "text/x-python",
   "name": "python",
   "nbconvert_exporter": "python",
   "pygments_lexer": "ipython3",
   "version": "3.10.8"
  },
  "vscode": {
   "interpreter": {
    "hash": "31f2aee4e71d21fbe5cf8b01ff0e069b9275f58929596ceb00d14d90e3e16cd6"
   }
  }
 },
 "nbformat": 4,
 "nbformat_minor": 5
}
