{
 "cells": [
  {
   "cell_type": "code",
   "execution_count": 8,
   "id": "4f2e39af-7b89-4ce2-974d-96686cb392bc",
   "metadata": {},
   "outputs": [],
   "source": [
    "import requests\n",
    "import numpy as np"
   ]
  },
  {
   "cell_type": "code",
   "execution_count": 9,
   "id": "ce91e05e-951d-4f21-9105-104b822deb90",
   "metadata": {},
   "outputs": [
    {
     "data": {
      "text/plain": [
       "245003317"
      ]
     },
     "execution_count": 9,
     "metadata": {},
     "output_type": "execute_result"
    }
   ],
   "source": [
    "total = requests.get('https://api.openalex.org/works').json()\n",
    "total['meta']['count']"
   ]
  },
  {
   "cell_type": "code",
   "execution_count": 5,
   "id": "ebbca144-c37d-4b25-ac9e-f498d7012587",
   "metadata": {},
   "outputs": [
    {
     "data": {
      "text/plain": [
       "2363376"
      ]
     },
     "execution_count": 5,
     "metadata": {},
     "output_type": "execute_result"
    }
   ],
   "source": [
    "bulk = requests.get('https://api.openalex.org/works?search=environmental%20flows').json()\n",
    "bulkeflow_records = bulk['meta']['count']\n",
    "bulkeflow_records"
   ]
  },
  {
   "cell_type": "code",
   "execution_count": 4,
   "id": "b49f1061-f8b8-4c8e-b618-8f5aeadb698e",
   "metadata": {},
   "outputs": [
    {
     "name": "stdout",
     "output_type": "stream",
     "text": [
      "A global perspective on environmental flow assessment: emerging trends in the development and application of environmental flow methodologies for rivers\n",
      "Rebecca E. Tharme\n",
      "https://doi.org/10.1002/rra.736\n",
      "2555.643\n",
      "\n",
      "\n",
      "Ecological responses to altered flow regimes: a literature review to inform the science and management of environmental flows\n",
      "N. LeRoy Poff\n",
      "https://doi.org/10.1111/j.1365-2427.2009.02272.x\n",
      "2175.0125\n",
      "\n",
      "\n",
      "THE CHALLENGE OF PROVIDING ENVIRONMENTAL FLOW RULES TO SUSTAIN RIVER ECOSYSTEMS\n",
      "Angela Arthington\n",
      "https://doi.org/10.1890/1051-0761(2006)016[1311:tcopef]2.0.co;2\n",
      "2065.2644\n",
      "\n",
      "\n",
      "The ecological limits of hydrologic alteration (ELOHA): a new framework for developing regional environmental flow standards\n",
      "N. LeRoy Poff\n",
      "https://doi.org/10.1111/j.1365-2427.2009.02204.x\n",
      "2035.7144\n",
      "\n",
      "\n",
      "Incorporating thermal regimes into environmental flows assessments: modifying dam operations to restore freshwater ecosystem integrity\n",
      "Julian D. Olden\n",
      "https://doi.org/10.1111/j.1365-2427.2009.02179.x\n",
      "1430.4535\n",
      "\n",
      "\n",
      "Restoring Environmental Flows by Modifying Dam Operations\n",
      "Brian Richter\n",
      "https://doi.org/10.5751/es-02014-120112\n",
      "1392.6423\n",
      "\n",
      "\n",
      "Classification of natural flow regimes in Australia to support environmental flow management\n",
      "Mark J. Kennard\n",
      "https://doi.org/10.1111/j.1365-2427.2009.02307.x\n",
      "1334.545\n",
      "\n",
      "\n",
      "A collaborative and adaptive process for developing environmental flow recommendations\n",
      "Brian Richter\n",
      "https://doi.org/10.1002/rra.892\n",
      "1279.5597\n",
      "\n",
      "\n",
      "A PRESUMPTIVE STANDARD FOR ENVIRONMENTAL FLOW PROTECTION\n",
      "Brian Richter\n",
      "https://doi.org/10.1002/rra.1511\n",
      "1198.0043\n",
      "\n",
      "\n",
      "Environmental Flows\n",
      "Angela H. Arthington\n",
      "https://doi.org/10.1525/california/9780520273696.001.0001\n",
      "1110.6161\n",
      "\n",
      "\n",
      "Application of the Indicators of Hydrologic Alteration Software in Environmental Flow Setting1\n",
      "Ruth Mathews\n",
      "https://doi.org/10.1111/j.1752-1688.2007.00099.x\n",
      "1109.4333\n",
      "\n",
      "\n",
      "Environmental flows and the European Water Framework Directive\n",
      "M. C. Acreman\n",
      "https://doi.org/10.1111/j.1365-2427.2009.02181.x\n",
      "1084.9215\n",
      "\n",
      "\n",
      "Accounting for environmental flow requirements in global water assessments\n",
      "Amandine Pastor\n",
      "https://doi.org/10.5194/hess-18-5041-2014\n",
      "1044.9194\n",
      "\n",
      "\n",
      "A scenario-based holistic approach to environmental flow assessments for rivers\n",
      "Jackie King\n",
      "https://doi.org/10.1002/rra.709\n",
      "1028.216\n",
      "\n",
      "\n",
      "Urban Stormwater Runoff: A New Class of Environmental Flow Problem\n",
      "Christopher J. Walsh\n",
      "https://doi.org/10.1371/journal.pone.0045814\n",
      "1021.89435\n",
      "\n",
      "\n",
      "Flow : the essentials of environmental flows\n",
      "Ger Bergkamp\n",
      "https://doi.org/10.2305/iucn.ch.2003.wani.2.en\n",
      "1014.69836\n",
      "\n",
      "\n",
      "Environmental flows for natural, hybrid, and novel riverine ecosystems in a changing world\n",
      "Mike Acreman\n",
      "https://doi.org/10.1890/130134\n",
      "983.4761\n",
      "\n",
      "\n",
      "Effects of Environmental Flow upon Tropical Cyclone Structure\n",
      "William M. Frank\n",
      "https://doi.org/10.1175/1520-0493(1999)127<2044:eoefut>2.0.co;2\n",
      "944.1533\n",
      "\n",
      "\n",
      "Theory, methods and tools for determining environmental flows for riparian vegetation: riparian vegetation-flow response guilds\n",
      "David M. Merritt\n",
      "https://doi.org/10.1111/j.1365-2427.2009.02206.x\n",
      "890.76776\n",
      "\n",
      "\n",
      "Environmental flow limits to global groundwater pumping\n",
      "Inge E. M. de Graaf\n",
      "https://doi.org/10.1038/s41586-019-1594-4\n",
      "871.0667\n",
      "\n",
      "\n"
     ]
    },
    {
     "data": {
      "text/plain": [
       "''"
      ]
     },
     "execution_count": 4,
     "metadata": {},
     "output_type": "execute_result"
    }
   ],
   "source": [
    "import requests\n",
    "import numpy as np\n",
    "\n",
    "def searching(query_string,broad='no',does_date_matter = 'yes',from_date='2000-01-01',to_date='2022-12-12'):\n",
    "\n",
    "    if broad == 'no':\n",
    "        if does_date_matter == 'yes':\n",
    "            institution = requests.get(\n",
    "                f'https://api.openalex.org/works?filter=abstract.search:{query_string},from_publication_date:{from_date},to_publication_date:{to_date}&page=1&per-page=20'\n",
    "            ).json()\n",
    "        else:\n",
    "            institution = requests.get(\n",
    "                f'https://api.openalex.org/works?filter=abstract.search:{query_string}&page=1&per-page=20'\n",
    "            ).json()\n",
    "\n",
    "    elif broad == 'yes':\n",
    "        institution = requests.get(\n",
    "            f'https://api.openalex.org/works?search={query_string}&page=1&per-page=20'\n",
    "        ).json()\n",
    "    \n",
    "    for x in range(20):\n",
    "        print(institution['results'][x]['title'])\n",
    "        print(institution['results'][x]['authorships'][0]['author']['display_name'])\n",
    "        print(institution['results'][x]['doi'])\n",
    "        print(institution['results'][x]['relevance_score'])\n",
    "        print('\\n')\n",
    "        \n",
    "\n",
    "    return _\n",
    "\n",
    "searching('environmental%20flows',broad='yes')"
   ]
  },
  {
   "cell_type": "code",
   "execution_count": 42,
   "id": "8f33f301-e8bd-428f-80bd-f79870712edf",
   "metadata": {},
   "outputs": [
    {
     "name": "stdin",
     "output_type": "stream",
     "text": [
      "what're you lookin' for today? \t environmental flow\n"
     ]
    },
    {
     "name": "stdout",
     "output_type": "stream",
     "text": [
      "number of results \t101166\n",
      "\n",
      "\n",
      "Four billion people facing severe water scarcity\n",
      "Mesfin Mekonnen\n",
      "https://doi.org/10.1126/sciadv.1500323\n",
      "1631.7297\n",
      "\n",
      "\n",
      "The ecological limits of hydrologic alteration (ELOHA): a new framework for developing regional environmental flow standards\n",
      "N. LeRoy Poff\n",
      "https://doi.org/10.1111/j.1365-2427.2009.02204.x\n",
      "1344.0663\n",
      "\n",
      "\n",
      "A global perspective on environmental flow assessment: emerging trends in the development and application of environmental flow methodologies for rivers\n",
      "Rebecca E. Tharme\n",
      "https://doi.org/10.1002/rra.736\n",
      "1192.6832\n",
      "\n",
      "\n",
      "THE CHALLENGE OF PROVIDING ENVIRONMENTAL FLOW RULES TO SUSTAIN RIVER ECOSYSTEMS\n",
      "Angela Arthington\n",
      "https://doi.org/10.1890/1051-0761(2006)016[1311:tcopef]2.0.co;2\n",
      "1137.479\n",
      "\n",
      "\n",
      "Incorporating thermal regimes into environmental flows assessments: modifying dam operations to restore freshwater ecosystem integrity\n",
      "Julian D. Olden\n",
      "https://doi.org/10.1111/j.1365-2427.2009.02179.x\n",
      "946.2768\n",
      "\n",
      "\n"
     ]
    }
   ],
   "source": [
    "query_string = 'co2'\n",
    "query_string = input(\"what're you lookin' for today? \\t\")\n",
    "does_date_matter = 'no'\n",
    "from_date = '2000-01-01'\n",
    "to_date = '2022-12-12'\n",
    "if does_date_matter == 'yes':\n",
    "    institution = requests.get(\n",
    "        f'https://api.openalex.org/works?filter=abstract.search:{query_string},from_publication_date:{from_date},to_publication_date:{to_date}&page=1&per-page=20'\n",
    "    ).json()\n",
    "else:\n",
    "    institution = requests.get(\n",
    "        f'https://api.openalex.org/works?filter=abstract.search:{query_string}&page=1&per-page=20'\n",
    "    ).json()\n",
    "\n",
    "print(f\"number of results \\t{institution['meta']['count']}\\n\\n\")\n",
    "\n",
    "for x in range(5):\n",
    "    print(institution['results'][x]['title'])\n",
    "    print(institution['results'][x]['authorships'][0]['author']['display_name'])\n",
    "    print(institution['results'][x]['doi'])\n",
    "    print(institution['results'][x]['relevance_score'])\n",
    "    print('\\n')"
   ]
  }
 ],
 "metadata": {
  "kernelspec": {
   "display_name": "Python (.conda-f2f_2)",
   "language": "python",
   "name": "conda-env-.conda-f2f_2-py"
  },
  "language_info": {
   "codemirror_mode": {
    "name": "ipython",
    "version": 3
   },
   "file_extension": ".py",
   "mimetype": "text/x-python",
   "name": "python",
   "nbconvert_exporter": "python",
   "pygments_lexer": "ipython3",
   "version": "3.10.4"
  }
 },
 "nbformat": 4,
 "nbformat_minor": 5
}
