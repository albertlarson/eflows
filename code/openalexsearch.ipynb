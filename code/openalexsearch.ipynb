{
 "cells": [
  {
   "cell_type": "code",
   "execution_count": 2,
   "id": "4f2e39af-7b89-4ce2-974d-96686cb392bc",
   "metadata": {},
   "outputs": [],
   "source": [
    "import requests\n",
    "import numpy as np"
   ]
  },
  {
   "cell_type": "code",
   "execution_count": 3,
   "id": "ce91e05e-951d-4f21-9105-104b822deb90",
   "metadata": {},
   "outputs": [
    {
     "data": {
      "text/plain": [
       "245314678"
      ]
     },
     "execution_count": 3,
     "metadata": {},
     "output_type": "execute_result"
    }
   ],
   "source": [
    "total = requests.get('https://api.openalex.org/works').json()\n",
    "total['meta']['count']"
   ]
  },
  {
   "cell_type": "code",
   "execution_count": 5,
   "id": "ebbca144-c37d-4b25-ac9e-f498d7012587",
   "metadata": {},
   "outputs": [
    {
     "data": {
      "text/plain": [
       "2363376"
      ]
     },
     "execution_count": 5,
     "metadata": {},
     "output_type": "execute_result"
    }
   ],
   "source": [
    "bulk = requests.get('https://api.openalex.org/works?search=environmental%20flows').json()\n",
    "bulkeflow_records = bulk['meta']['count']\n",
    "bulkeflow_records"
   ]
  },
  {
   "cell_type": "code",
   "execution_count": 4,
   "id": "b49f1061-f8b8-4c8e-b618-8f5aeadb698e",
   "metadata": {},
   "outputs": [
    {
     "name": "stdout",
     "output_type": "stream",
     "text": [
      "Extracting and composing robust features with denoising autoencoders\n",
      "Pascal Vincent\n",
      "https://doi.org/10.1145/1390156.1390294\n",
      "5947.6367\n",
      "\n",
      "\n",
      "Stacked Denoising Autoencoders: Learning Useful Representations in a Deep Network with a Local Denoising Criterion\n",
      "Pascal Vincent\n",
      "None\n",
      "3256.4844\n",
      "\n",
      "\n",
      "Reducing the Dimensionality of Data with Neural Networks\n",
      "Geoffrey E. Hinton\n",
      "https://doi.org/10.1126/science.1127647\n",
      "2322.658\n",
      "\n",
      "\n",
      "Semi-Supervised Recursive Autoencoders for Predicting Sentiment Distributions\n",
      "Richard Socher\n",
      "None\n",
      "1972.7487\n",
      "\n",
      "\n",
      "Dynamic Pooling and Unfolding Recursive Autoencoders for Paraphrase Detection\n",
      "Richard Socher\n",
      "None\n",
      "1799.0897\n",
      "\n",
      "\n",
      "Anomaly Detection with Robust Deep Autoencoders\n",
      "Chong Zhou\n",
      "https://doi.org/10.1145/3097983.3098052\n",
      "1710.8915\n",
      "\n",
      "\n",
      "Anomaly Detection Using Autoencoders with Nonlinear Dimensionality Reduction\n",
      "Mayu Sakurada\n",
      "https://doi.org/10.1145/2689746.2689747\n",
      "1700.7102\n",
      "\n",
      "\n",
      "Importance Weighted Autoencoders\n",
      "Yuri Burda\n",
      "None\n",
      "1691.5955\n",
      "\n",
      "\n",
      "Autoencoders, Minimum Description Length and Helmholtz Free Energy\n",
      "Geoffrey E. Hinton\n",
      "None\n",
      "1597.5643\n",
      "\n",
      "\n",
      "A Connection Between Score Matching and Denoising Autoencoders\n",
      "Pascal Vincent\n",
      "https://doi.org/10.1162/neco_a_00142\n",
      "1582.278\n",
      "\n",
      "\n",
      "Cross-modal Retrieval with Correspondence Autoencoder\n",
      "Fangxiang Feng\n",
      "https://doi.org/10.1145/2647868.2654902\n",
      "1578.9047\n",
      "\n",
      "\n",
      "Speech enhancement based on deep denoising autoencoder\n",
      "Xugang Lu\n",
      "https://doi.org/10.21437/interspeech.2013-130\n",
      "1530.6918\n",
      "\n",
      "\n",
      "Tutorial on Variational Autoencoders\n",
      "Carl Doersch\n",
      "None\n",
      "1485.6052\n",
      "\n",
      "\n",
      "Autoencoders, Unsupervised Learning, and Deep Architectures\n",
      "Pierre Baldi\n",
      "None\n",
      "1463.5833\n",
      "\n",
      "\n",
      "Domain Generalization for Object Recognition with Multi-task Autoencoders\n",
      "Muhammad Ghifary\n",
      "https://doi.org/10.1109/iccv.2015.293\n",
      "1408.5348\n",
      "\n",
      "\n",
      "Semantic Autoencoder for Zero-Shot Learning\n",
      "Elyor Kodirov\n",
      "https://doi.org/10.1109/cvpr.2017.473\n",
      "1378.6643\n",
      "\n",
      "\n",
      "LLNet: A deep autoencoder approach to natural low-light image enhancement\n",
      "Kin Gwn Lore\n",
      "https://doi.org/10.1016/j.patcog.2016.06.008\n",
      "1360.9978\n",
      "\n",
      "\n",
      "Variational Autoencoders for Collaborative Filtering\n",
      "Dawen Liang\n",
      "https://doi.org/10.1145/3178876.3186150\n",
      "1328.6895\n",
      "\n",
      "\n",
      "Age Progression/Regression by Conditional Adversarial Autoencoder\n",
      "Zhifei Zhang\n",
      "https://doi.org/10.1109/cvpr.2017.463\n",
      "1326.3684\n",
      "\n",
      "\n",
      "Stacked Sparse Autoencoder (SSAE) for Nuclei Detection on Breast Cancer Histopathology Images\n",
      "Jun Xu\n",
      "https://doi.org/10.1109/tmi.2015.2458702\n",
      "1304.4412\n",
      "\n",
      "\n"
     ]
    },
    {
     "data": {
      "text/plain": [
       "245314678"
      ]
     },
     "execution_count": 4,
     "metadata": {},
     "output_type": "execute_result"
    }
   ],
   "source": [
    "import requests\n",
    "import numpy as np\n",
    "\n",
    "def searching(query_string,broad='no',does_date_matter = 'yes',from_date='2000-01-01',to_date='2022-12-12'):\n",
    "\n",
    "    if broad == 'no':\n",
    "        if does_date_matter == 'yes':\n",
    "            institution = requests.get(\n",
    "                f'https://api.openalex.org/works?filter=abstract.search:{query_string},from_publication_date:{from_date},to_publication_date:{to_date}&page=1&per-page=20'\n",
    "            ).json()\n",
    "        else:\n",
    "            institution = requests.get(\n",
    "                f'https://api.openalex.org/works?filter=abstract.search:{query_string}&page=1&per-page=20'\n",
    "            ).json()\n",
    "\n",
    "    elif broad == 'yes':\n",
    "        institution = requests.get(\n",
    "            f'https://api.openalex.org/works?search={query_string}&page=1&per-page=20'\n",
    "        ).json()\n",
    "    \n",
    "    for x in range(20):\n",
    "        print(institution['results'][x]['title'])\n",
    "        print(institution['results'][x]['authorships'][0]['author']['display_name'])\n",
    "        print(institution['results'][x]['doi'])\n",
    "        print(institution['results'][x]['relevance_score'])\n",
    "        print('\\n')\n",
    "        \n",
    "\n",
    "    return _\n",
    "\n",
    "searching('autoencoder',broad='yes')"
   ]
  },
  {
   "cell_type": "code",
   "execution_count": 42,
   "id": "8f33f301-e8bd-428f-80bd-f79870712edf",
   "metadata": {},
   "outputs": [
    {
     "name": "stdout",
     "output_type": "stream",
     "text": [
      "what're you lookin' for today? \t environmental flow\n"
     ]
    },
    {
     "name": "stdout",
     "output_type": "stream",
     "text": [
      "number of results \t101166\n",
      "\n",
      "\n",
      "Four billion people facing severe water scarcity\n",
      "Mesfin Mekonnen\n",
      "https://doi.org/10.1126/sciadv.1500323\n",
      "1631.7297\n",
      "\n",
      "\n",
      "The ecological limits of hydrologic alteration (ELOHA): a new framework for developing regional environmental flow standards\n",
      "N. LeRoy Poff\n",
      "https://doi.org/10.1111/j.1365-2427.2009.02204.x\n",
      "1344.0663\n",
      "\n",
      "\n",
      "A global perspective on environmental flow assessment: emerging trends in the development and application of environmental flow methodologies for rivers\n",
      "Rebecca E. Tharme\n",
      "https://doi.org/10.1002/rra.736\n",
      "1192.6832\n",
      "\n",
      "\n",
      "THE CHALLENGE OF PROVIDING ENVIRONMENTAL FLOW RULES TO SUSTAIN RIVER ECOSYSTEMS\n",
      "Angela Arthington\n",
      "https://doi.org/10.1890/1051-0761(2006)016[1311:tcopef]2.0.co;2\n",
      "1137.479\n",
      "\n",
      "\n",
      "Incorporating thermal regimes into environmental flows assessments: modifying dam operations to restore freshwater ecosystem integrity\n",
      "Julian D. Olden\n",
      "https://doi.org/10.1111/j.1365-2427.2009.02179.x\n",
      "946.2768\n",
      "\n",
      "\n"
     ]
    }
   ],
   "source": [
    "query_string = 'co2'\n",
    "query_string = input(\"what're you lookin' for today? \\t\")\n",
    "does_date_matter = 'no'\n",
    "from_date = '2000-01-01'\n",
    "to_date = '2022-12-12'\n",
    "if does_date_matter == 'yes':\n",
    "    institution = requests.get(\n",
    "        f'https://api.openalex.org/works?filter=abstract.search:{query_string},from_publication_date:{from_date},to_publication_date:{to_date}&page=1&per-page=20'\n",
    "    ).json()\n",
    "else:\n",
    "    institution = requests.get(\n",
    "        f'https://api.openalex.org/works?filter=abstract.search:{query_string}&page=1&per-page=20'\n",
    "    ).json()\n",
    "\n",
    "print(f\"number of results \\t{institution['meta']['count']}\\n\\n\")\n",
    "\n",
    "for x in range(5):\n",
    "    print(institution['results'][x]['title'])\n",
    "    print(institution['results'][x]['authorships'][0]['author']['display_name'])\n",
    "    print(institution['results'][x]['doi'])\n",
    "    print(institution['results'][x]['relevance_score'])\n",
    "    print('\\n')"
   ]
  }
 ],
 "metadata": {
  "kernelspec": {
   "display_name": "Python 3.9.6 64-bit",
   "language": "python",
   "name": "python3"
  },
  "language_info": {
   "codemirror_mode": {
    "name": "ipython",
    "version": 3
   },
   "file_extension": ".py",
   "mimetype": "text/x-python",
   "name": "python",
   "nbconvert_exporter": "python",
   "pygments_lexer": "ipython3",
   "version": "3.9.6"
  },
  "vscode": {
   "interpreter": {
    "hash": "31f2aee4e71d21fbe5cf8b01ff0e069b9275f58929596ceb00d14d90e3e16cd6"
   }
  }
 },
 "nbformat": 4,
 "nbformat_minor": 5
}
