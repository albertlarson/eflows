{
 "cells": [
  {
   "cell_type": "code",
   "execution_count": 1,
   "id": "b423a223",
   "metadata": {},
   "outputs": [],
   "source": [
    "from inspect import getsourcefile\n",
    "import litstudy #Use pip install git+https://github.com/NLeSC/litstudy to download dev version. Other encoding problem when loading ris files (load_ris_file needs to use robust_open instead of open)\n",
    "import os\n",
    "import pandas as pd\n",
    "from pathlib import Path\n",
    "import re\n",
    "import shutil\n",
    "\n",
    "#Info: tags from WoS https://images.webofknowledge.com/images/help/WOS/hs_wos_fieldtags.html\n",
    "\n",
    "#Set up project directory structure\n",
    "rootdir = os.path.dirname(os.getcwd())\n",
    "scopdir = Path(rootdir, \"data\", \"scoping\")\n",
    "resdir = Path(rootdir, \"results\")\n",
    "\n",
    "#Subdirectory where tab-delimited files of wos outputs were saved\n",
    "scoping_2_datdir = Path(scopdir, 'scoping_2_wos')\n"
   ]
  },
  {
   "cell_type": "code",
   "execution_count": 2,
   "id": "8e8c5ee3",
   "metadata": {
    "scrolled": true
   },
   "outputs": [],
   "source": [
    "#Get list of every tab-delimited file\n",
    "tab_initlist = [p for p in list(scoping_2_datdir.glob('*')) \n",
    "                if re.compile(\".*savedrecs\\\\([0-9]+\\\\)[.]txt\").match(str(p))]\n",
    "#Read as panda\n",
    "wos_initlist = pd.concat((pd.read_csv(f, sep='\\t') for f in tab_initlist), ignore_index=True) \n"
   ]
  },
  {
   "cell_type": "code",
   "execution_count": 3,
   "id": "1218bf24",
   "metadata": {},
   "outputs": [],
   "source": [
    "#Divide wos categories (which are all initially contained in a single column) into multiple columns\n",
    "wos_cat_split = wos_initlist.WC.str.split(pat=re.compile(\"[;]|[&]\"),expand=True)\n",
    "wos_cat_split.columns = [f'wos_cat{i}' for i in range(wos_cat_split.shape[1])]\n",
    "wos_initlist_cats = pd.concat([wos_initlist, wos_cat_split], axis=1)\n",
    "\n",
    "#Randomly sample 10 articles in list for each wos category (each document can have multiple wos category)\n",
    "#https://stackoverflow.com/questions/67871215/groupby-sample-pandas-with-keeping-the-groups-lower-than-n-if-applicable\n",
    "catsamplecsv_path = Path(scopdir, 'wos_search1_catsample.csv')\n",
    "if not catsamplecsv_path.exists():\n",
    "    wos_initlist_catsample = wos_initlist_cats.sample(frac=1).groupby('wos_cat1').head(10) #To sample even if less than 10 in category\n",
    "    wos_initlist_catsample.to_csv()\n",
    "    \n",
    "#######Base on 'wos_search1_catsample.csv', go through the title and abstract of every reference and include or exclude\n",
    "#based on preliminary eligibility criteria."
   ]
  },
  {
   "cell_type": "code",
   "execution_count": 4,
   "id": "4445f1d8",
   "metadata": {},
   "outputs": [],
   "source": [
    "#Compute the number of included and excluded references depending on all catgeories for each document\n",
    "#Format as a table to be examined\n",
    "wos_initlist_catsample_format = pd.read_csv(catsamplecsv_path)\n",
    "\n",
    "wos_catsample_stats = pd.melt(frame=wos_initlist_catsample_format,\n",
    "        id_vars=['Unnamed: 0', 'Inclusion'],\n",
    "        value_vars = wos_cat_split.columns,\n",
    "        #var_name='wos_catnum',\n",
    "        value_name = 'wos_catnum'\n",
    "        )\n",
    "\n",
    "wos_catsample_stats['wos_catnum'] = wos_catsample_stats['wos_catnum'].replace(r\"^ +| +$\", r\"\", regex=True)\n",
    "\n",
    "wos_catsample_stats = wos_catsample_stats.groupby(['wos_catnum', 'Inclusion']).size().to_frame('N').reset_index().\\\n",
    "    pivot(index='wos_catnum', columns='Inclusion')\n",
    "\n",
    "wos_catsample_stats.columns = wos_catsample_stats.columns.droplevel()\n",
    "wos_catsample_stats.reset_index(inplace=True)\n",
    "wos_catsample_stats = wos_catsample_stats.rename(columns={0:\"excluded\", 1:\"included\"}).\\\n",
    "    fillna(0)\n",
    "wos_catsample_stats['N'] = wos_catsample_stats['excluded'] + wos_catsample_stats['included']\n",
    "wos_catsample_stats.sort_values(['included','N'], ascending=[False, False]).\\\n",
    "to_csv(Path(scopdir, 'wos_search1_catsample_stats.csv'))"
   ]
  }
 ],
 "metadata": {
  "kernelspec": {
   "display_name": "Python 3 (ipykernel)",
   "language": "python",
   "name": "python3"
  },
  "language_info": {
   "codemirror_mode": {
    "name": "ipython",
    "version": 3
   },
   "file_extension": ".py",
   "mimetype": "text/x-python",
   "name": "python",
   "nbconvert_exporter": "python",
   "pygments_lexer": "ipython3",
   "version": "3.9.13"
  }
 },
 "nbformat": 4,
 "nbformat_minor": 5
}
