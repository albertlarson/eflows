{
 "cells": [
  {
   "cell_type": "code",
   "execution_count": 2,
   "metadata": {},
   "outputs": [
    {
     "name": "stdout",
     "output_type": "stream",
     "text": [
      "['fox jumps over the lazy dog']\n",
      "['dog is not interested in the fox']\n"
     ]
    }
   ],
   "source": [
    "import re\n",
    "import itertools as it\n",
    "\n",
    "text = \"The quick brown fox jumps over the lazy dog. The dog is not interested in the fox.\"\n",
    "word1 = \"fox\"\n",
    "word2 = \"dog\"\n",
    "\n",
    "\n",
    "# Define a regex pattern to match two words that are no more than two words apart\n",
    "pattern0 = r\"\\b\" + word1 + r\"\\W+(?:\\w+\\W+){0,5}?\" + word2 + r\"\\b\"\n",
    "pattern1 = r\"\\b\" + word2 + r\"\\W+(?:\\w+\\W+){0,5}?\" + word1 + r\"\\b\"\n",
    "\n",
    "# Use the findall() function to find all matches in the text\n",
    "matches0 = re.findall(pattern0, text)\n",
    "matches1 = re.findall(pattern1, text)\n",
    "\n",
    "# Print the matches\n",
    "print(matches0)\n",
    "print(matches1)\n"
   ]
  },
  {
   "cell_type": "code",
   "execution_count": 157,
   "metadata": {},
   "outputs": [],
   "source": [
    "text1 = ['''\n",
    "\n",
    "As part of an experimental e-flows ecologic study, we flow monitored the instream flow and water \n",
    "levels of a freshwater stream for several months. Our goal was to determine the optimum maintenance \n",
    "practices for this stream to ensure an acceptable flow and water level, while minimizing the \n",
    "need for flushing and compensating for any negative impacts on the environment. We also studied\n",
    "the effects of flooding on the stream and developed a compensation plan to augment its natural\n",
    "restoration processes. Our research showed that careful management of water discharge and in-stream\n",
    "maintenance can lead to significant improvements in the stream's ecological and environmental health.\n",
    "\n",
    "To achieve the desired results, we conducted regular flushing activities to remove excess sediment \n",
    "and debris from the stream. We also implemented a compensation program to provide financial support\n",
    "to landowners who were e-flows willing to participate in the restoration efforts. This program not only helped\n",
    "to restore the natural flow and water levels of the stream, but it also had a positive impact on the local community.\n",
    "\n",
    "Our study revealed that in-stream maintenance activities should be conducted on a regular basis to ensure\n",
    "the long-term health of the stream. This includes activities such as removing debris, stabilizing banks,\n",
    "and planting vegetation to eflow prevent erosion. We also found that the stream's flow and water level are \n",
    "closely related to the surrounding environment, and any changes to the land use or development practices\n",
    "can have a significant impact on the stream's health.\n",
    "\n",
    "Overall, our research demonstrates the importance of careful management of freshwater resources and the \n",
    "need for ongoing monitoring and restoration efforts. By implementing sustainable practices and working \n",
    "collaboratively with local communities, we can ensure a healthy and thriving ecosystem for future generations.\n",
    "\n",
    "''']\n",
    "\n",
    "prepped_text = text1[0].replace(\"\\n\",\"\")"
   ]
  },
  {
   "cell_type": "code",
   "execution_count": 7,
   "metadata": {},
   "outputs": [
    {
     "data": {
      "text/plain": [
       "['flow',\n",
       " 'flow',\n",
       " 'flow',\n",
       " 'flushing',\n",
       " 'flooding',\n",
       " 'flushing',\n",
       " 'flows',\n",
       " 'flow',\n",
       " 'flow',\n",
       " 'flow']"
      ]
     },
     "execution_count": 7,
     "metadata": {},
     "output_type": "execute_result"
    }
   ],
   "source": [
    "hi = \"ecolog\\S*\"\n",
    "yo = \"fl\\S*\"\n",
    "\n",
    "re.findall(rf\"{yo}\",prepped_text)"
   ]
  },
  {
   "cell_type": "code",
   "execution_count": 156,
   "metadata": {},
   "outputs": [
    {
     "data": {
      "text/plain": [
       "'ecolog\\\\S*'"
      ]
     },
     "execution_count": 156,
     "metadata": {},
     "output_type": "execute_result"
    }
   ],
   "source": [
    "hi"
   ]
  },
  {
   "cell_type": "code",
   "execution_count": 8,
   "metadata": {},
   "outputs": [
    {
     "data": {
      "text/plain": [
       "['ecologic study, we flow']"
      ]
     },
     "execution_count": 8,
     "metadata": {},
     "output_type": "execute_result"
    }
   ],
   "source": [
    "re.findall(rf\"{hi}\" +r\"\\W+(?:\\w+\\W+){0,2}?\" + rf\"{yo}\" + r\"\\b\",prepped_text)"
   ]
  },
  {
   "cell_type": "code",
   "execution_count": 12,
   "metadata": {},
   "outputs": [],
   "source": [
    "''' \\S* means any non whitespace character repeated an one or more number of times\n",
    "\\S means any single non whitespace character\n",
    "'''\n",
    "\n",
    "combo1_1 = [\"ecologic\\S*\",'environmental\\S*', 'minim\\S\\S', 'acceptable',\n",
    "'augment\\S*', 'compensation', 'experimental', 'flushing', \n",
    "'in-stream', 'instream', 'maintenance', 'optimum', 'restor\\S*']\n",
    "\n",
    "combo1_2 = [\"flood\\S*\", 'flow\\S*', 'freshwater\\S','water', \n",
    "'water level\\S', 'discharge']\n",
    "\n",
    "combo2_1 = ['conservation','cultural','cut-off','cutoff','design','fish','functional',\n",
    "'management','maximum','natural','preference','protection','rating','regime','residual',\n",
    "'right\\S','sanita\\S*','scenario','standard','suitable','surplus','sustainable','threshold',\n",
    "'use','vital']\n",
    "combo2_2 = ['flow\\S']\n",
    "\n",
    "combo3_1 = ['downstream','dam','reservoir']\n",
    "combo3_2 = ['water release\\S','flow release\\S']\n",
    "\n",
    "combo4_1 = ['controlled','artificial']\n",
    "combo4_2 = ['flood']\n",
    "\n",
    "combo5_1 = ['hydrologic\\S*']\n",
    "combo5_2 = ['requirement','manipulation\\S']\n",
    "\n",
    "combo6_1 = ['\\S*flow\\S','freshwater\\S','\\S*water\\S*','water level\\S']\n",
    "combo6_2 = ['abstraction','allocation','criteri\\S*','delivery','demand\\S','guideline\\S',\n",
    "'need','provision','requirement','reserv\\S*','restrict\\S*','withdrawal']"
   ]
  },
  {
   "cell_type": "code",
   "execution_count": 171,
   "metadata": {},
   "outputs": [],
   "source": [
    "def find(text,word1,word2,precede=False):\n",
    "    wa = re.findall(rf\"{word1}\" +r\"\\W+(?:\\w+\\W+){0,0}?\" + rf\"{word2}\" + r\"\\b\",prepped_text)\n",
    "    if precede==False:\n",
    "        wa1 = re.findall(rf\"{word2}\" +r\"\\W+(?:\\w+\\W+){0,0}?\" + rf\"{word1}\" + r\"\\b\",prepped_text)\n",
    "        return wa, wa1\n",
    "    else:\n",
    "        return wa\n",
    "\n",
    "def findSimp(text,word1,word2,precede=False):\n",
    "    wa = re.findall(rf\"{word1}\" +r\"\\W\" + rf\"{word2}\" + r\"\\b\",prepped_text)\n",
    "    if precede==False:\n",
    "        wa1 = re.findall(rf\"{word2}\" +r\"\\W\" + rf\"{word1}\" + r\"\\b\",prepped_text)\n",
    "        return sum(len(wa),len(wa1))\n",
    "    else:\n",
    "        return len(wa)\n",
    "\n",
    "def findSuperSimp(text,word):\n",
    "    return len(re.findall(rf\"{word}\",text))\n",
    "\n",
    "# def find_near(text,word1,word2,dist,precede=False):\n",
    "#     wa = re.findall(rf\"{word1}\" +r\"\\W+(?:\\w+\\W+){0,\" + rf\"{dist}\"+ \"}?\" + rf\"{word2}\" + r\"\\b\",prepped_text)\n",
    "#     if precede==False:\n",
    "#         wa1 = re.findall(rf\"{word2}\" +r\"\\W+(?:\\w+\\W+){0,\" + rf\"{dist}\"+ \"}?\" + rf\"{word1}\" + r\"\\b\",prepped_text)\n",
    "#         return wa,wa1\n",
    "#     else:\n",
    "#         return wa"
   ]
  },
  {
   "cell_type": "code",
   "execution_count": 166,
   "metadata": {},
   "outputs": [],
   "source": [
    "x1 = list(it.product(combo1_1,combo1_2))\n",
    "x2 = list(it.product(combo2_1,combo2_2))\n",
    "x3 = list(it.product(combo3_1,combo3_2))\n",
    "x4 = list(it.product(combo4_1,combo4_2))\n",
    "x5 = list(it.product(combo5_1,combo5_2))\n",
    "x6 = list(it.product(combo6_1,combo6_2))\n",
    "xeflows1 = 'e-flow'\n",
    "xeflows2 = 'e-flows'\n",
    "\n",
    "X = [x1,x2,x3,x4,x5,x6.xeflows1,xeflows2]"
   ]
  },
  {
   "cell_type": "code",
   "execution_count": 170,
   "metadata": {},
   "outputs": [
    {
     "ename": "SyntaxError",
     "evalue": "'break' outside loop (1645264039.py, line 3)",
     "output_type": "error",
     "traceback": [
      "\u001b[0;36m  Cell \u001b[0;32mIn[170], line 3\u001b[0;36m\u001b[0m\n\u001b[0;31m    break\u001b[0m\n\u001b[0m    ^\u001b[0m\n\u001b[0;31mSyntaxError\u001b[0m\u001b[0;31m:\u001b[0m 'break' outside loop\n"
     ]
    }
   ],
   "source": [
    "for idx,i in enumerate(X):\n",
    "    if idx in [0,1,5]:\n",
    "        for j in i:\n",
    "            k = findSimp(prepped_text,j[0],j[1])\n",
    "            if k > 0:\n",
    "                break\n",
    "    \n",
    "    elif idx in [2,3,4]:\n",
    "        for j in i:\n",
    "            k = findSimp(prepped_text,j[0],j[1],precede=True)\n",
    "            if k > 0:\n",
    "                break\n",
    "\n",
    "    elif idx in [6,7]:\n",
    "        for j in i:\n",
    "            k = findSuperSimp(prepped_text,j)\n",
    "            if k > 0:\n",
    "                break\n"
   ]
  },
  {
   "cell_type": "code",
   "execution_count": 34,
   "metadata": {},
   "outputs": [
    {
     "data": {
      "text/plain": [
       "(['ecologic study, we flow'], [])"
      ]
     },
     "execution_count": 34,
     "metadata": {},
     "output_type": "execute_result"
    }
   ],
   "source": [
    "find(x[1][0],x[1][1],precede=False)"
   ]
  },
  {
   "cell_type": "code",
   "execution_count": 62,
   "metadata": {},
   "outputs": [],
   "source": []
  },
  {
   "cell_type": "code",
   "execution_count": 64,
   "metadata": {},
   "outputs": [
    {
     "data": {
      "text/plain": [
       "([], [])"
      ]
     },
     "execution_count": 64,
     "metadata": {},
     "output_type": "execute_result"
    }
   ],
   "source": [
    "find_near(x[2][0],x[2][1])"
   ]
  },
  {
   "cell_type": "code",
   "execution_count": 98,
   "metadata": {},
   "outputs": [],
   "source": [
    "newtxt = ['''\n",
    "\n",
    "    The minimally acceptable ecological compensation for flushing experiments requires augmenting in-stream flow. Optimal conservation management is necessary to protect freshwater resources from environmental degradation. Surplus water discharge must be restricted for sustainable natural resource use, and hydrologic manipulation is required to meet freshwater requirements. Downstream water release scenarios from dams and reservoirs must be rated based on functional suitability and cultural preference. Artificial floods may be necessary for optimal water allocation and to meet freshwater demand guidelines.\n",
    "\n",
    "    Environmental protection standards require suitable conservation and suitable in-stream compensation for experimental flow regimes. Surplus water discharge must be managed sustainably to maintain natural resources, and hydrologic manipulation criteria must be met to meet freshwater requirements. Downstream water release from dams and reservoirs must be regulated according to functional suitability and cultural preference. Artificial floods may be necessary for optimum water allocation and to meet freshwater demand guidelines.\n",
    "\n",
    "    The ecological impact of flushing experiments requires augmenting in-stream flow to meet acceptable standards of environmental protection. Optimal conservation management is necessary to protect freshwater resources, and residual compensation must be sustained for the sustainable maintenance of natural water resources. Surplus water discharge must be regulated for artificial flood protection, and hydrologic manipulation is required to meet freshwater requirements. Downstream water release scenarios from dams and reservoirs must be rated based on functional suitability and cultural preference. Artificial floods may be necessary for optimum water allocation and to meet freshwater demand guidelines.\n",
    "\n",
    "    Environmental conservation standards require suitable in-stream compensation for experimental flow regimes and ecological flushing to meet acceptable environmental protection standards. Optimal freshwater management is necessary to protect natural resources, and residual compensation must be sustained for sustainable water maintenance. Surplus water discharge must be regulated for artificial flood protection, and hydrologic manipulation is required to meet freshwater requirements. Downstream water release from dams and reservoirs must be rated based on functional suitability and cultural preference. Artificial floods may be necessary for optimum water allocation and to meet freshwater demand guidelines.\n",
    "\n",
    "    Suitable conservation scenarios require acceptable environmental protection standards and suitable in-stream compensation for experimental flow regimes. Optimal freshwater management is necessary to protect natural resources, and residual compensation must be sustained for sustainable water maintenance. Surplus water discharge must be regulated for artificial flood protection, and hydrologic manipulation is required to meet freshwater requirements. Downstream water release from dams and reservoirs must be rated based on functional suitability and cultural preference. Artificial floods may be necessary for optimum water allocation and to meet freshwater demand guidelines.\n",
    "\n",
    "    Optimal conservation management requires suitable in-stream compensation for experimental flow regimes and ecological flushing to meet acceptable environmental protection standards. Residual compensation must be sustained for sustainable water maintenance, and surplus water discharge must be regulated for artificial flood protection. Hydrologic manipulation is required to meet freshwater requirements, and downstream water release scenarios from dams and reservoirs must be rated based on functional suitability and cultural preference. Artificial floods may be necessary for optimum water allocation and to meet freshwater demand guidelines.\n",
    "\n",
    "    Acceptable environmental protection standards require suitable conservation scenarios and in-stream compensation for experimental flow regimes. Optimal freshwater management is necessary to protect natural resources, and residual compensation must be sustained for sustainable water maintenance. Surplus water discharge must be regulated for artificial flood protection, and hydrologic manipulation is required to meet freshwater requirements. Downstream water release from dams and reservoirs must be rated based on functional suitability and cultural preference. Artificial floods may be necessary for optimum water allocation and to meet freshwater demand guidelines.\n",
    "\n",
    "    Optimal conservation management requires suitable in-stream compensation for experimental flow regimes and ecological flushing to meet acceptable environmental protection standards. Residual compensation must be sustained for sustainable water maintenance, and surplus water discharge must be regulated for artificial flood protection. Hydrologic manipulation is required to meet\n",
    "\n",
    "''']\n",
    "\n",
    "newtxt1 = newtxt[0].replace(\"\\n\",\"\").strip()"
   ]
  }
 ],
 "metadata": {
  "kernelspec": {
   "display_name": "Python 3",
   "language": "python",
   "name": "python3"
  },
  "language_info": {
   "codemirror_mode": {
    "name": "ipython",
    "version": 3
   },
   "file_extension": ".py",
   "mimetype": "text/x-python",
   "name": "python",
   "nbconvert_exporter": "python",
   "pygments_lexer": "ipython3",
   "version": "3.10.9"
  },
  "orig_nbformat": 4
 },
 "nbformat": 4,
 "nbformat_minor": 2
}
