{
 "cells": [
  {
   "cell_type": "code",
   "execution_count": 24,
   "metadata": {},
   "outputs": [
    {
     "data": {
      "text/html": [
       "<div>\n",
       "<style scoped>\n",
       "    .dataframe tbody tr th:only-of-type {\n",
       "        vertical-align: middle;\n",
       "    }\n",
       "\n",
       "    .dataframe tbody tr th {\n",
       "        vertical-align: top;\n",
       "    }\n",
       "\n",
       "    .dataframe thead th {\n",
       "        text-align: right;\n",
       "    }\n",
       "</style>\n",
       "<table border=\"1\" class=\"dataframe\">\n",
       "  <thead>\n",
       "    <tr style=\"text-align: right;\">\n",
       "      <th></th>\n",
       "      <th>index</th>\n",
       "      <th>openalex_id</th>\n",
       "      <th>display_name</th>\n",
       "      <th>normalized_name</th>\n",
       "      <th>Include?</th>\n",
       "      <th>level</th>\n",
       "      <th>wikidata_id</th>\n",
       "      <th>parent_display_names</th>\n",
       "    </tr>\n",
       "  </thead>\n",
       "  <tbody>\n",
       "    <tr>\n",
       "      <th>0</th>\n",
       "      <td>2</td>\n",
       "      <td>https://openalex.org/c26271046</td>\n",
       "      <td>Economic geography</td>\n",
       "      <td>economic geography</td>\n",
       "      <td>Y</td>\n",
       "      <td>1</td>\n",
       "      <td>https://www.wikidata.org/wiki/Q187097</td>\n",
       "      <td>Economics, Geography</td>\n",
       "    </tr>\n",
       "    <tr>\n",
       "      <th>1</th>\n",
       "      <td>8</td>\n",
       "      <td>https://openalex.org/c47768531</td>\n",
       "      <td>Development economics</td>\n",
       "      <td>development economics</td>\n",
       "      <td>Y</td>\n",
       "      <td>1</td>\n",
       "      <td>https://www.wikidata.org/wiki/Q1127188</td>\n",
       "      <td>Economics</td>\n",
       "    </tr>\n",
       "    <tr>\n",
       "      <th>2</th>\n",
       "      <td>26</td>\n",
       "      <td>https://openalex.org/c54355233</td>\n",
       "      <td>Genetics</td>\n",
       "      <td>genetics</td>\n",
       "      <td>Y</td>\n",
       "      <td>1</td>\n",
       "      <td>https://www.wikidata.org/wiki/Q7162</td>\n",
       "      <td>Biology</td>\n",
       "    </tr>\n",
       "    <tr>\n",
       "      <th>3</th>\n",
       "      <td>49</td>\n",
       "      <td>https://openalex.org/c2522767166</td>\n",
       "      <td>Data science</td>\n",
       "      <td>data science</td>\n",
       "      <td>Y</td>\n",
       "      <td>1</td>\n",
       "      <td>https://www.wikidata.org/wiki/Q2374463</td>\n",
       "      <td>Computer science</td>\n",
       "    </tr>\n",
       "    <tr>\n",
       "      <th>4</th>\n",
       "      <td>55</td>\n",
       "      <td>https://openalex.org/c107826830</td>\n",
       "      <td>Environmental resource management</td>\n",
       "      <td>environmental resource management</td>\n",
       "      <td>Y</td>\n",
       "      <td>1</td>\n",
       "      <td>https://www.wikidata.org/wiki/Q929380</td>\n",
       "      <td>Economics, Environmental science</td>\n",
       "    </tr>\n",
       "  </tbody>\n",
       "</table>\n",
       "</div>"
      ],
      "text/plain": [
       "   index                       openalex_id                       display_name  \\\n",
       "0      2    https://openalex.org/c26271046                 Economic geography   \n",
       "1      8    https://openalex.org/c47768531              Development economics   \n",
       "2     26    https://openalex.org/c54355233                           Genetics   \n",
       "3     49  https://openalex.org/c2522767166                       Data science   \n",
       "4     55   https://openalex.org/c107826830  Environmental resource management   \n",
       "\n",
       "                     normalized_name Include?  level  \\\n",
       "0                 economic geography        Y      1   \n",
       "1              development economics        Y      1   \n",
       "2                           genetics        Y      1   \n",
       "3                       data science        Y      1   \n",
       "4  environmental resource management        Y      1   \n",
       "\n",
       "                              wikidata_id              parent_display_names  \n",
       "0   https://www.wikidata.org/wiki/Q187097              Economics, Geography  \n",
       "1  https://www.wikidata.org/wiki/Q1127188                         Economics  \n",
       "2     https://www.wikidata.org/wiki/Q7162                           Biology  \n",
       "3  https://www.wikidata.org/wiki/Q2374463                  Computer science  \n",
       "4   https://www.wikidata.org/wiki/Q929380  Economics, Environmental science  "
      ]
     },
     "execution_count": 24,
     "metadata": {},
     "output_type": "execute_result"
    }
   ],
   "source": [
    "import pandas as pd\n",
    "import numpy as np\n",
    "\n",
    "x = pd.read_excel('Book1.xlsx')\n",
    "x.head()\n",
    "\n",
    "x1 = x[x['Include?'] == 'Y']\n",
    "# len(x1)\n",
    "\n",
    "x1\n",
    "x2 = x1.reset_index()\n",
    "x2\n",
    "\n",
    "x2.head()"
   ]
  },
  {
   "cell_type": "code",
   "execution_count": 34,
   "metadata": {},
   "outputs": [
    {
     "data": {
      "text/plain": [
       "'https://openalex.org/c26271046'"
      ]
     },
     "execution_count": 34,
     "metadata": {},
     "output_type": "execute_result"
    }
   ],
   "source": [
    "x3 = np.asarray(x2['openalex_id'])\n",
    "# x4 = [i.split('/')[-1] for i in x3]\n",
    "# x4\n",
    "\n",
    "x3[0]"
   ]
  },
  {
   "cell_type": "code",
   "execution_count": 71,
   "metadata": {},
   "outputs": [
    {
     "data": {
      "text/plain": [
       "array(['https://openalex.org/c26271046', 'https://openalex.org/c47768531',\n",
       "       'https://openalex.org/c54355233',\n",
       "       'https://openalex.org/c2522767166',\n",
       "       'https://openalex.org/c107826830',\n",
       "       'https://openalex.org/c524765639',\n",
       "       'https://openalex.org/c505870484',\n",
       "       'https://openalex.org/c70721500', 'https://openalex.org/c78458016',\n",
       "       'https://openalex.org/c105795698'], dtype=object)"
      ]
     },
     "execution_count": 71,
     "metadata": {},
     "output_type": "execute_result"
    }
   ],
   "source": [
    "x4 = x3[0:10]\n",
    "x4"
   ]
  },
  {
   "cell_type": "code",
   "execution_count": 75,
   "metadata": {},
   "outputs": [
    {
     "name": "stdout",
     "output_type": "stream",
     "text": [
      "1.812408685684204\n"
     ]
    }
   ],
   "source": [
    "import asyncio\n",
    "import httpx\n",
    "import time\n",
    "\n",
    "t0 = time.time()\n",
    "\n",
    "async with httpx.AsyncClient() as client:\n",
    "    r = [client.get(f\"https://api.openalex.org/works?filter=concept.id:{i}\") for i in x3]\n",
    "    s = await asyncio.gather(*r)\n",
    "\n",
    "t1 = time.time()\n",
    "print(t1-t0)\n"
   ]
  },
  {
   "cell_type": "code",
   "execution_count": 81,
   "metadata": {},
   "outputs": [
    {
     "name": "stdout",
     "output_type": "stream",
     "text": [
      "<Response [200 OK]>\n",
      "528580\n",
      "<Response [200 OK]>\n",
      "665926\n",
      "<Response [200 OK]>\n",
      "11058468\n",
      "<Response [200 OK]>\n",
      "1715972\n",
      "<Response [200 OK]>\n",
      "944578\n",
      "<Response [429 TOO MANY REQUESTS]>\n",
      "couldn't get metadata for this concept\n",
      "<Response [429 TOO MANY REQUESTS]>\n",
      "couldn't get metadata for this concept\n",
      "<Response [200 OK]>\n",
      "1802363\n",
      "<Response [429 TOO MANY REQUESTS]>\n",
      "couldn't get metadata for this concept\n",
      "<Response [429 TOO MANY REQUESTS]>\n",
      "couldn't get metadata for this concept\n",
      "<Response [429 TOO MANY REQUESTS]>\n",
      "couldn't get metadata for this concept\n",
      "<Response [429 TOO MANY REQUESTS]>\n",
      "couldn't get metadata for this concept\n",
      "<Response [429 TOO MANY REQUESTS]>\n",
      "couldn't get metadata for this concept\n",
      "<Response [429 TOO MANY REQUESTS]>\n",
      "couldn't get metadata for this concept\n",
      "<Response [200 OK]>\n",
      "9383691\n",
      "<Response [200 OK]>\n",
      "1547070\n",
      "<Response [429 TOO MANY REQUESTS]>\n",
      "couldn't get metadata for this concept\n",
      "<Response [429 TOO MANY REQUESTS]>\n",
      "couldn't get metadata for this concept\n",
      "<Response [429 TOO MANY REQUESTS]>\n",
      "couldn't get metadata for this concept\n",
      "<Response [200 OK]>\n",
      "676726\n",
      "<Response [429 TOO MANY REQUESTS]>\n",
      "couldn't get metadata for this concept\n",
      "<Response [429 TOO MANY REQUESTS]>\n",
      "couldn't get metadata for this concept\n",
      "<Response [429 TOO MANY REQUESTS]>\n",
      "couldn't get metadata for this concept\n",
      "<Response [200 OK]>\n",
      "18189261\n",
      "<Response [429 TOO MANY REQUESTS]>\n",
      "couldn't get metadata for this concept\n",
      "<Response [429 TOO MANY REQUESTS]>\n",
      "couldn't get metadata for this concept\n",
      "<Response [429 TOO MANY REQUESTS]>\n",
      "couldn't get metadata for this concept\n",
      "<Response [429 TOO MANY REQUESTS]>\n",
      "couldn't get metadata for this concept\n",
      "<Response [429 TOO MANY REQUESTS]>\n",
      "couldn't get metadata for this concept\n",
      "<Response [429 TOO MANY REQUESTS]>\n",
      "couldn't get metadata for this concept\n",
      "<Response [429 TOO MANY REQUESTS]>\n",
      "couldn't get metadata for this concept\n",
      "<Response [429 TOO MANY REQUESTS]>\n",
      "couldn't get metadata for this concept\n",
      "<Response [429 TOO MANY REQUESTS]>\n",
      "couldn't get metadata for this concept\n",
      "<Response [429 TOO MANY REQUESTS]>\n",
      "couldn't get metadata for this concept\n",
      "<Response [429 TOO MANY REQUESTS]>\n",
      "couldn't get metadata for this concept\n",
      "<Response [429 TOO MANY REQUESTS]>\n",
      "couldn't get metadata for this concept\n",
      "<Response [429 TOO MANY REQUESTS]>\n",
      "couldn't get metadata for this concept\n",
      "<Response [429 TOO MANY REQUESTS]>\n",
      "couldn't get metadata for this concept\n",
      "<Response [429 TOO MANY REQUESTS]>\n",
      "couldn't get metadata for this concept\n",
      "<Response [429 TOO MANY REQUESTS]>\n",
      "couldn't get metadata for this concept\n",
      "<Response [429 TOO MANY REQUESTS]>\n",
      "couldn't get metadata for this concept\n",
      "<Response [429 TOO MANY REQUESTS]>\n",
      "couldn't get metadata for this concept\n",
      "<Response [429 TOO MANY REQUESTS]>\n",
      "couldn't get metadata for this concept\n",
      "<Response [429 TOO MANY REQUESTS]>\n",
      "couldn't get metadata for this concept\n",
      "<Response [429 TOO MANY REQUESTS]>\n",
      "couldn't get metadata for this concept\n"
     ]
    }
   ],
   "source": [
    "for i in s:\n",
    "    print(i)\n",
    "    try:\n",
    "        print(i.json()['meta']['count'])\n",
    "    except:\n",
    "        print(\"couldn't get metadata for this concept\")"
   ]
  },
  {
   "cell_type": "code",
   "execution_count": null,
   "metadata": {},
   "outputs": [],
   "source": []
  }
 ],
 "metadata": {
  "kernelspec": {
   "display_name": "Python 3",
   "language": "python",
   "name": "python3"
  },
  "language_info": {
   "codemirror_mode": {
    "name": "ipython",
    "version": 3
   },
   "file_extension": ".py",
   "mimetype": "text/x-python",
   "name": "python",
   "nbconvert_exporter": "python",
   "pygments_lexer": "ipython3",
   "version": "3.10.9"
  },
  "orig_nbformat": 4
 },
 "nbformat": 4,
 "nbformat_minor": 2
}
